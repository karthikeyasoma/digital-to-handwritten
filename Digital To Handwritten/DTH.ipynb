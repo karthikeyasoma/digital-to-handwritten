{
 "metadata": {
  "language_info": {
   "codemirror_mode": {
    "name": "ipython",
    "version": 3
   },
   "file_extension": ".py",
   "mimetype": "text/x-python",
   "name": "python",
   "nbconvert_exporter": "python",
   "pygments_lexer": "ipython3",
   "version": "3.8.5"
  },
  "orig_nbformat": 4,
  "kernelspec": {
   "name": "python3",
   "display_name": "Python 3.8.5 64-bit ('base': conda)"
  },
  "interpreter": {
   "hash": "514c875f458a4eeecf57fff9a8f241a0d348fbc5534b67b68517d23698dc73f9"
  }
 },
 "nbformat": 4,
 "nbformat_minor": 2,
 "cells": [
  {
   "cell_type": "code",
   "execution_count": 15,
   "metadata": {},
   "outputs": [],
   "source": [
    "import pywhatkit as pwt\n",
    "t# pwt.text_to_handwriting(\"Using python library pywhatkit \",rgb=[0,0,0])\n",
    "#wt.text_to_handwriting(\"Uython \"\",rgb=[0,0,0])\n",
    "# Image will be saved to the pwd"
   ]
  },
  {
   "cell_type": "code",
   "execution_count": 2,
   "metadata": {},
   "outputs": [],
   "source": [
    "import pywhatkit as pwt \n",
    "file = open(\"D:\\\\ACADS\\\\computer programing\\\\Digital To Handwritten\\\\c++p.txt\")\n",
    "inp = file.read()\n",
    "pwt.text_to_handwriting(inp,\"D:\\\\ACADS\\\\computer programing\\\\Digital To Handwritten\\\\sample1.png\",[255,0,0])"
   ]
  },
  {
   "cell_type": "code",
   "execution_count": null,
   "metadata": {},
   "outputs": [],
   "source": []
  }
 ]
}